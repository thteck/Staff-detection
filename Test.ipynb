{
 "cells": [
  {
   "cell_type": "markdown",
   "id": "97d02608",
   "metadata": {},
   "source": [
    "Import library"
   ]
  },
  {
   "cell_type": "code",
   "execution_count": 1,
   "id": "d22a42a3",
   "metadata": {},
   "outputs": [],
   "source": [
    "import cv2\n",
    "import numpy as np\n",
    "import tensorflow as tf\n",
    "from tensorflow.keras import layers,Model,Sequential\n",
    "from tensorflow.keras.applications import ResNet50"
   ]
  },
  {
   "cell_type": "markdown",
   "id": "26c79cc3",
   "metadata": {},
   "source": [
    "Create Embedding model"
   ]
  },
  {
   "cell_type": "code",
   "execution_count": 2,
   "id": "4a05baef",
   "metadata": {},
   "outputs": [],
   "source": [
    "base_cnn = ResNet50(weights=\"imagenet\", input_shape=(200,200,3), include_top=False)\n",
    "\n",
    "custom_layers = Sequential([\n",
    "    layers.Flatten(),\n",
    "    layers.Dense(512, activation=\"relu\"),\n",
    "    layers.BatchNormalization(),\n",
    "\n",
    "    layers.Dense(256, activation=\"relu\"),\n",
    "    layers.BatchNormalization(),\n",
    "\n",
    "    layers.Dense(256)\n",
    "\n",
    "])\n",
    "\n",
    "output = custom_layers(base_cnn.output)\n",
    "\n",
    "embedding = Model(inputs=base_cnn.input, outputs=output, name=\"Embedding\")"
   ]
  },
  {
   "cell_type": "code",
   "execution_count": 3,
   "id": "b1b1795f",
   "metadata": {},
   "outputs": [],
   "source": [
    "# Transfer learning\n",
    "trainable = False\n",
    "for layer in base_cnn.layers:\n",
    "    if layer.name == \"conv5_block1_out\":\n",
    "        trainable = True\n",
    "    layer.trainable = trainable"
   ]
  },
  {
   "cell_type": "markdown",
   "id": "8fd3a58a",
   "metadata": {},
   "source": [
    "Create threshold data"
   ]
  },
  {
   "cell_type": "code",
   "execution_count": 4,
   "id": "4ce6d529",
   "metadata": {},
   "outputs": [],
   "source": [
    "sample = cv2.resize(cv2.imread('positive_pic.png'),(200,200))\n",
    "test_pic = cv2.resize(cv2.imread('positive_pic_2.png'),(200,200))\n",
    "test_pic_2 = cv2.resize(cv2.imread('positive_pic_3.png'),(200,200))"
   ]
  },
  {
   "cell_type": "code",
   "execution_count": 5,
   "id": "929872d3",
   "metadata": {},
   "outputs": [],
   "source": [
    "sample = embedding(np.array([sample]))\n",
    "test = embedding(np.array([test_pic]))\n",
    "test_2 = embedding(np.array([test_pic_2]))"
   ]
  },
  {
   "cell_type": "code",
   "execution_count": 6,
   "id": "ab3565b4",
   "metadata": {},
   "outputs": [],
   "source": [
    "# Calculate similarity using Euclidean distance\n",
    "def similarity(imgA,imgB):\n",
    "    dist = tf.reduce_sum(tf.square(imgA - imgB), -1)\n",
    "    return dist"
   ]
  },
  {
   "cell_type": "code",
   "execution_count": 7,
   "id": "87b42f7a",
   "metadata": {},
   "outputs": [
    {
     "data": {
      "text/plain": [
       "<tf.Tensor: shape=(1,), dtype=float32, numpy=array([337.30383], dtype=float32)>"
      ]
     },
     "execution_count": 7,
     "metadata": {},
     "output_type": "execute_result"
    }
   ],
   "source": [
    "threshold = min(similarity(sample,test),similarity(sample,test_2))\n",
    "threshold"
   ]
  },
  {
   "cell_type": "markdown",
   "id": "b8988639",
   "metadata": {},
   "source": [
    "Read videoframe and extract. Draw rect if embedded value lower than threshold"
   ]
  },
  {
   "cell_type": "code",
   "execution_count": 8,
   "id": "0c864f7b",
   "metadata": {},
   "outputs": [],
   "source": [
    "# Create a VideoCapture object and read the frames from an input file\n",
    "cap = cv2.VideoCapture('sample.mp4')\n",
    "\n",
    "# Check if the video is loaded successfully\n",
    "if (cap.isOpened()== False):\n",
    "    print(\"Error opening video file\")\n",
    "    \n",
    "frame_width = int(cap.get(3))\n",
    "frame_height = int(cap.get(4))\n",
    "fps = cap.get(cv2.CAP_PROP_FPS)\n",
    "size = (frame_width, frame_height)\n",
    "result = cv2.VideoWriter('result.mp4',cv2.VideoWriter_fourcc(*'MP4V'),fps, size)    \n",
    "    \n",
    "# Mixture of Gaussian model\n",
    "MOG2 = cv2.createBackgroundSubtractorMOG2()\n",
    " \n",
    "# Loop over every single frame\n",
    "while(cap.isOpened()):\n",
    "    # Read current frame\n",
    "    ret, frame = cap.read()\n",
    "\n",
    "    # Extract foreground mask\n",
    "    mask = MOG2.apply(frame)\n",
    "    \n",
    "    # Extract contours which is the boundary pixels that have the same color and intensity\n",
    "    contours, _ = cv2.findContours(mask, cv2.RETR_LIST, cv2.CHAIN_APPROX_SIMPLE)\n",
    "\n",
    "    # Loop through each contours\n",
    "    for c in contours:\n",
    "        \n",
    "        # Small contours might be people or other things that is not vehicle\n",
    "        # Remaining loop is skip \n",
    "        if cv2.contourArea(c) < 3500:\n",
    "            continue\n",
    "            \n",
    "        # Big contours should be vehicle that need to be highlighted   \n",
    "        x, y, w, h = cv2.boundingRect(c)\n",
    "        \n",
    "        ## frame shape is 720 960 3\n",
    "        roi = cv2.resize(frame[y:y+h,x:x+w],(200,200))\n",
    "        diff = similarity(sample,embedding(np.array([roi])))\n",
    "        \n",
    "        if diff < threshold:\n",
    "            cv2.putText(frame, str((x,y)), (x, y-10), cv2.FONT_HERSHEY_SIMPLEX, 0.9, (36,255,12), 2)\n",
    "            cv2.rectangle(frame,(x,y), (x+w, y+h), (0,255,0), 2)\n",
    "    \n",
    "    # Display mask and video\n",
    "    cv2.imshow('Original Video', frame)\n",
    "    result.write(frame)\n",
    "    \n",
    "    # wait for keypressed to exit the while loop\n",
    "    if cv2.waitKey(1) & 0xFF == ord('q'):\n",
    "        break\n",
    "\n",
    "# Release video object\n",
    "cap.release()\n",
    "result.release()\n",
    "cv2.destroyAllWindows()"
   ]
  },
  {
   "cell_type": "code",
   "execution_count": null,
   "id": "7a45c4af",
   "metadata": {},
   "outputs": [],
   "source": []
  }
 ],
 "metadata": {
  "kernelspec": {
   "display_name": "Python 3 (ipykernel)",
   "language": "python",
   "name": "python3"
  },
  "language_info": {
   "codemirror_mode": {
    "name": "ipython",
    "version": 3
   },
   "file_extension": ".py",
   "mimetype": "text/x-python",
   "name": "python",
   "nbconvert_exporter": "python",
   "pygments_lexer": "ipython3",
   "version": "3.9.12"
  }
 },
 "nbformat": 4,
 "nbformat_minor": 5
}
